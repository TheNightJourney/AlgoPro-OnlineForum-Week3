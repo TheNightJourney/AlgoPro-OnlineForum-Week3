{
 "cells": [
  {
   "cell_type": "code",
   "execution_count": 4,
   "id": "3a3403d5",
   "metadata": {},
   "outputs": [
    {
     "name": "stdout",
     "output_type": "stream",
     "text": [
      "Enter the radius of your circle: 3\n",
      "28.274333882308138\n"
     ]
    }
   ],
   "source": [
    "# 1. Write a Python program which accepts the radius of a circle from the user and compute the area\n",
    "\n",
    "import math\n",
    "\n",
    "radius = float(input(\"Enter the radius of your circle: \"))\n",
    "area = math.pi*radius*radius\n",
    "print(area)"
   ]
  },
  {
   "cell_type": "code",
   "execution_count": 3,
   "id": "93036392",
   "metadata": {},
   "outputs": [
    {
     "name": "stdout",
     "output_type": "stream",
     "text": [
      "Please enter your first name: beans\n",
      "Please enter your last name: beans\n",
      "beans beans\n"
     ]
    }
   ],
   "source": [
    "# 2. Write a Python program which accepts the user's first and last name and print them in reverse order with a space between them.\n",
    "\n",
    "first_name = str(input(\"Please enter your first name: \"))\n",
    "\n",
    "last_name = str(input(\"Please enter your last name: \"))\n",
    "    \n",
    "print(last_name, first_name, sep=\" \")"
   ]
  },
  {
   "cell_type": "code",
   "execution_count": 7,
   "id": "3cca3ec7",
   "metadata": {},
   "outputs": [
    {
     "name": "stdout",
     "output_type": "stream",
     "text": [
      "Red Black\n"
     ]
    }
   ],
   "source": [
    "# 3. Write a Python program to display the first and last colors from the following list. \n",
    "# color_list = [\"Red\",\"Green\",\"White\",\"Black\"]\n",
    "\n",
    "color_list = [\"Red\",\"Green\",\"White\",\"Black\"]\n",
    "print(color_list[+0],color_list[3])"
   ]
  },
  {
   "cell_type": "code",
   "execution_count": 1,
   "id": "a2589a91",
   "metadata": {},
   "outputs": [
    {
     "name": "stdout",
     "output_type": "stream",
     "text": [
      "Please enter an integer (Whole number): d\n"
     ]
    },
    {
     "ename": "ValueError",
     "evalue": "invalid literal for int() with base 10: 'd'",
     "output_type": "error",
     "traceback": [
      "\u001b[1;31m---------------------------------------------------------------------------\u001b[0m",
      "\u001b[1;31mValueError\u001b[0m                                Traceback (most recent call last)",
      "Cell \u001b[1;32mIn [1], line 3\u001b[0m\n\u001b[0;32m      1\u001b[0m \u001b[38;5;66;03m# 4. Write a Python program that accepts an integer (n) and computes the value of n+nn+nnn.\u001b[39;00m\n\u001b[1;32m----> 3\u001b[0m n \u001b[38;5;241m=\u001b[39m \u001b[38;5;28mint\u001b[39m(\u001b[38;5;28minput\u001b[39m(\u001b[38;5;124m\"\u001b[39m\u001b[38;5;124mPlease enter an integer (Whole number): \u001b[39m\u001b[38;5;124m\"\u001b[39m))\n\u001b[0;32m      4\u001b[0m \u001b[38;5;28mprint\u001b[39m(n\u001b[38;5;241m+\u001b[39m(\u001b[38;5;241m2\u001b[39m\u001b[38;5;241m*\u001b[39mn)\u001b[38;5;241m+\u001b[39m(\u001b[38;5;241m3\u001b[39m\u001b[38;5;241m*\u001b[39mn))\n",
      "\u001b[1;31mValueError\u001b[0m: invalid literal for int() with base 10: 'd'"
     ]
    }
   ],
   "source": [
    "# 4. Write a Python program that accepts an integer (n) and computes the value of n+nn+nnn.\n",
    "\n",
    "n = int(input(\"Please enter an integer (Whole number): \"))\n",
    "print(n+(2*n)+(3*n))\n"
   ]
  },
  {
   "cell_type": "code",
   "execution_count": 1,
   "id": "471adbf5",
   "metadata": {},
   "outputs": [
    {
     "name": "stdout",
     "output_type": "stream",
     "text": [
      "904.7786842338603\n"
     ]
    }
   ],
   "source": [
    "# 5. Write a Python program to get the volume of a sphere with radius 6.\n",
    "# The volume of the sphere is : V = 4/3 × π × r3 = π × d3/6.\n",
    "\n",
    "import math\n",
    "r = 6\n",
    "print((4/3)*math.pi*(r*r*r))"
   ]
  },
  {
   "cell_type": "code",
   "execution_count": 2,
   "id": "6e4a5dce",
   "metadata": {},
   "outputs": [
    {
     "name": "stdout",
     "output_type": "stream",
     "text": [
      "Enter your number: a\n"
     ]
    },
    {
     "ename": "ValueError",
     "evalue": "could not convert string to float: 'a'",
     "output_type": "error",
     "traceback": [
      "\u001b[1;31m---------------------------------------------------------------------------\u001b[0m",
      "\u001b[1;31mValueError\u001b[0m                                Traceback (most recent call last)",
      "Cell \u001b[1;32mIn [2], line 4\u001b[0m\n\u001b[0;32m      1\u001b[0m \u001b[38;5;66;03m# 6. Write a Python program to get the difference between a given number and 17, if the number is greater than 17 return\u001b[39;00m\n\u001b[0;32m      2\u001b[0m \u001b[38;5;66;03m# double the absolute difference.\u001b[39;00m\n\u001b[1;32m----> 4\u001b[0m given_number \u001b[38;5;241m=\u001b[39m \u001b[38;5;28mfloat\u001b[39m(\u001b[38;5;28minput\u001b[39m(\u001b[38;5;124m\"\u001b[39m\u001b[38;5;124mEnter your number: \u001b[39m\u001b[38;5;124m\"\u001b[39m))\n\u001b[0;32m      6\u001b[0m \u001b[38;5;28;01mif\u001b[39;00m given_number \u001b[38;5;241m<\u001b[39m \u001b[38;5;241m17\u001b[39m:\n\u001b[0;32m      7\u001b[0m     \u001b[38;5;28mprint\u001b[39m(given_number \u001b[38;5;241m-\u001b[39m \u001b[38;5;241m17\u001b[39m)\n",
      "\u001b[1;31mValueError\u001b[0m: could not convert string to float: 'a'"
     ]
    }
   ],
   "source": [
    "# 6. Write a Python program to get the difference between a given number and 17, if the number is greater than 17 return\n",
    "# double the absolute difference.\n",
    "\n",
    "given_number = float(input(\"Enter your number: \"))\n",
    "\n",
    "if given_number < 17:\n",
    "    print(given_number - 17)\n",
    "\n",
    "else:\n",
    "    print((given_number - 17)*2)\n"
   ]
  },
  {
   "cell_type": "code",
   "execution_count": 3,
   "id": "e8dcdeb4",
   "metadata": {},
   "outputs": [
    {
     "name": "stdout",
     "output_type": "stream",
     "text": [
      "Give me a number: 3\n",
      "Another: 3\n",
      "One more: 3\n",
      "27.0\n"
     ]
    }
   ],
   "source": [
    "# 7. Write a Python program to calculate the sum of three given numbers, if the values are equal then return thrice of their\n",
    "# sum.\n",
    "\n",
    "x = float(input(\"Give me a number: \"))\n",
    "y = float(input(\"Another: \"))\n",
    "z = float(input(\"One more: \"))\n",
    "\n",
    "if x == y == z:\n",
    "    print(3*(x + y + z))\n",
    "    \n",
    "else:\n",
    "    print(x + y + z)"
   ]
  },
  {
   "cell_type": "code",
   "execution_count": 4,
   "id": "03abf2c4",
   "metadata": {},
   "outputs": [
    {
     "name": "stdout",
     "output_type": "stream",
     "text": [
      "Give me a number: 3\n",
      "3.0 is odd.\n"
     ]
    }
   ],
   "source": [
    "# 8. Write a Python program to find whether a given number (accept from the user) is even or odd, print out an appropriate\n",
    "# message to the user.\n",
    "\n",
    "user_input = float(input(\"Give me a number: \"))\n",
    "if (user_input % 2) == 0:\n",
    "    print(user_input, \"is even.\")\n",
    "else:\n",
    "    print(user_input, \"is odd.\")\n",
    "    "
   ]
  },
  {
   "cell_type": "code",
   "execution_count": 5,
   "id": "687ab100",
   "metadata": {},
   "outputs": [
    {
     "name": "stdout",
     "output_type": "stream",
     "text": [
      "Give me a letter: t\n",
      "Consonant.\n"
     ]
    }
   ],
   "source": [
    "# 9. Write a Python program to test whether a letter is a vowel or not.\n",
    "\n",
    "letter = str(input(\"Give me a letter: \"))\n",
    "letter = letter.lower()\n",
    "\n",
    "if letter == \"a\":\n",
    "    print(\"Vowel.\")\n",
    "elif letter == \"e\":\n",
    "    print(\"Vowel.\")\n",
    "elif letter == \"i\":\n",
    "    print(\"Vowel.\")\n",
    "elif letter == \"o\":\n",
    "    print(\"Vowel.\")\n",
    "elif letter == \"u\":\n",
    "    print(\"Vowel.\")\n",
    "else:\n",
    "    print(\"Consonant.\")"
   ]
  },
  {
   "cell_type": "code",
   "execution_count": 11,
   "id": "032c5575",
   "metadata": {},
   "outputs": [
    {
     "name": "stdout",
     "output_type": "stream",
     "text": [
      "Enter a value: 2\n",
      "Enter the maximum value: 10\n",
      "False\n"
     ]
    }
   ],
   "source": [
    "# 10. Write a Python program to check whether a specified value is contained in a group of values.\n",
    "\n",
    "a = int(input(\"Enter a value: \"))\n",
    "x = input(\"Enter the maximum value: \")\n",
    "g = 0\n",
    "search = x.split()\n",
    "for i in range(0,len(x)):\n",
    "  if a == int(x[i]):\n",
    "    g = 1\n",
    "    break;\n",
    "      \n",
    "if g == 1:\n",
    "  print('True')\n",
    "else:\n",
    "  print('False')\n",
    "\n"
   ]
  },
  {
   "cell_type": "code",
   "execution_count": 55,
   "id": "ed3f6dad",
   "metadata": {
    "scrolled": true
   },
   "outputs": [
    {
     "ename": "TypeError",
     "evalue": "'list' object is not callable",
     "output_type": "error",
     "traceback": [
      "\u001b[1;31m---------------------------------------------------------------------------\u001b[0m",
      "\u001b[1;31mTypeError\u001b[0m                                 Traceback (most recent call last)",
      "Cell \u001b[1;32mIn [55], line 10\u001b[0m\n\u001b[0;32m      8\u001b[0m \u001b[38;5;66;03m# Make an empty list \"x\", pre-emptively get the list length, then fill the list.\u001b[39;00m\n\u001b[0;32m      9\u001b[0m x \u001b[38;5;241m=\u001b[39m []\n\u001b[1;32m---> 10\u001b[0m y \u001b[38;5;241m=\u001b[39m \u001b[38;5;28mint\u001b[39m(\u001b[38;5;28minput\u001b[39m(\u001b[38;5;124m\"\u001b[39m\u001b[38;5;124mEnter the length of your list: \u001b[39m\u001b[38;5;124m\"\u001b[39m))\n\u001b[0;32m     11\u001b[0m \u001b[38;5;28mprint\u001b[39m(\u001b[38;5;124m\"\u001b[39m\u001b[38;5;124mEnter\u001b[39m\u001b[38;5;124m\"\u001b[39m,y,\u001b[38;5;124m\"\u001b[39m\u001b[38;5;124mnumbers: \u001b[39m\u001b[38;5;124m\"\u001b[39m)\n\u001b[0;32m     13\u001b[0m \u001b[38;5;66;03m# Loop the code so that you get \"y\" amount of numbers.\u001b[39;00m\n",
      "\u001b[1;31mTypeError\u001b[0m: 'list' object is not callable"
     ]
    }
   ],
   "source": [
    "# 11. Write a Python program to create a histogram from a given list of integers.\n",
    "\n",
    "# The histogram function, here, for every \"x\", will print the same number of \"o\".\n",
    "def histogram(x):\n",
    "    for i in x:\n",
    "        print(i * \"o\")\n",
    "\n",
    "# Make an empty list \"x\", pre-emptively get the list length, then fill the list.\n",
    "x = []\n",
    "y = int(input(\"Enter the length of your list: \"))\n",
    "print(\"Enter\",y,\"numbers: \")\n",
    "\n",
    "# Loop the code so that you get \"y\" amount of numbers.\n",
    "for i in range(y):\n",
    "    user_input = int(input())\n",
    "    x.append(user_input)\n",
    "\n",
    "# Print out the histogram.\n",
    "print(\"------------------------------- Here is your histogram!\")\n",
    "histogram(x)\n",
    "\n",
    "# The only reason I've spent so long on this code making notes is because\n",
    "# Python Tutor accepts it, but Jupyter says \"y\" isn't callable.\n",
    "# The duality of IDEs."
   ]
  },
  {
   "cell_type": "code",
   "execution_count": 40,
   "id": "4d3e45f6",
   "metadata": {},
   "outputs": [
    {
     "name": "stdout",
     "output_type": "stream",
     "text": [
      "386 462 418 344 236 566 978 328 162 758 918 412 566 826 248 866 950 626 104 58 512 24 892 894 742 958 "
     ]
    }
   ],
   "source": [
    "# 12. Write a Python program to print all even numbers from a given numbers list in the same order.\n",
    "\n",
    "numbers = [\n",
    " 386, 462, 47, 418, 907, 344, 236, 375, 823, 566, 597, 978, 328, 615, 953, 345,\n",
    " 399, 162, 758, 219, 918, 237, 412, 566, 826, 248, 866, 950, 626, 949, 687, 217,\n",
    " 815, 67, 104, 58, 512, 24, 892, 894, 767, 553, 81, 379, 843, 831, 445, 742, 717,\n",
    " 958,743, 527 ]\n",
    "\n",
    "for x in numbers:\n",
    "    if x % 2 == 0:\n",
    "        print(x, end=\" \")"
   ]
  },
  {
   "cell_type": "code",
   "execution_count": 41,
   "id": "336bf17d",
   "metadata": {},
   "outputs": [
    {
     "ename": "TypeError",
     "evalue": "'list' object is not callable",
     "output_type": "error",
     "traceback": [
      "\u001b[1;31m---------------------------------------------------------------------------\u001b[0m",
      "\u001b[1;31mTypeError\u001b[0m                                 Traceback (most recent call last)",
      "Cell \u001b[1;32mIn [41], line 3\u001b[0m\n\u001b[0;32m      1\u001b[0m \u001b[38;5;66;03m# 13. Write a Python program that will accept the base and height of a triangle and compute the area.\u001b[39;00m\n\u001b[1;32m----> 3\u001b[0m input_base \u001b[38;5;241m=\u001b[39m \u001b[38;5;28mfloat\u001b[39m(\u001b[38;5;28minput\u001b[39m(\u001b[38;5;124m\"\u001b[39m\u001b[38;5;124mTriangle Base: \u001b[39m\u001b[38;5;124m\"\u001b[39m))\n\u001b[0;32m      4\u001b[0m input_height \u001b[38;5;241m=\u001b[39m \u001b[38;5;28mfloat\u001b[39m(\u001b[38;5;28minput\u001b[39m(\u001b[38;5;124m\"\u001b[39m\u001b[38;5;124mTriangle Height: \u001b[39m\u001b[38;5;124m\"\u001b[39m))\n\u001b[0;32m      6\u001b[0m \u001b[38;5;28mprint\u001b[39m(\u001b[38;5;124m\"\u001b[39m\u001b[38;5;124mYour triangle area is\u001b[39m\u001b[38;5;124m\"\u001b[39m,(\u001b[38;5;241m1\u001b[39m\u001b[38;5;241m/\u001b[39m\u001b[38;5;241m2\u001b[39m)\u001b[38;5;241m*\u001b[39minput_base\u001b[38;5;241m*\u001b[39minput_height,\u001b[38;5;124m\"\u001b[39m\u001b[38;5;124mcm.\u001b[39m\u001b[38;5;124m\"\u001b[39m)\n",
      "\u001b[1;31mTypeError\u001b[0m: 'list' object is not callable"
     ]
    }
   ],
   "source": [
    "# 13. Write a Python program that will accept the base and height of a triangle and compute the area.\n",
    "\n",
    "input_base = float(input(\"Triangle Base: \"))\n",
    "input_height = float(input(\"Triangle Height: \"))\n",
    "\n",
    "print(\"Your triangle area is\",(1/2)*input_base*input_height,\"cm.\")"
   ]
  },
  {
   "cell_type": "code",
   "execution_count": 38,
   "id": "48c1710e",
   "metadata": {},
   "outputs": [
    {
     "ename": "SyntaxError",
     "evalue": "invalid syntax (3761737615.py, line 20)",
     "output_type": "error",
     "traceback": [
      "\u001b[1;36m  Cell \u001b[1;32mIn [38], line 20\u001b[1;36m\u001b[0m\n\u001b[1;33m    if y_one = y_two:\u001b[0m\n\u001b[1;37m             ^\u001b[0m\n\u001b[1;31mSyntaxError\u001b[0m\u001b[1;31m:\u001b[0m invalid syntax\n"
     ]
    }
   ],
   "source": [
    "# 14. Write a Python program to get the least common multiple (LCM) of two positive integers.\n",
    "\n",
    "i_one = float(input(\"Integer One: \"))\n",
    "i_two = float(input(\"Integer Two: \"))\n",
    "\n",
    "\n",
    "    "
   ]
  },
  {
   "cell_type": "code",
   "execution_count": null,
   "id": "6ba95c26",
   "metadata": {},
   "outputs": [],
   "source": []
  }
 ],
 "metadata": {
  "kernelspec": {
   "display_name": "Python 3 (ipykernel)",
   "language": "python",
   "name": "python3"
  },
  "language_info": {
   "codemirror_mode": {
    "name": "ipython",
    "version": 3
   },
   "file_extension": ".py",
   "mimetype": "text/x-python",
   "name": "python",
   "nbconvert_exporter": "python",
   "pygments_lexer": "ipython3",
   "version": "3.9.13"
  }
 },
 "nbformat": 4,
 "nbformat_minor": 5
}
