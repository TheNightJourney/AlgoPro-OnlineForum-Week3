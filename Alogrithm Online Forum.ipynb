{
 "cells": [
  {
   "cell_type": "code",
   "execution_count": 101,
   "id": "3a3403d5",
   "metadata": {},
   "outputs": [
    {
     "name": "stdout",
     "output_type": "stream",
     "text": [
      "Enter the radius of your circle: 23\n",
      "1661.90\n"
     ]
    }
   ],
   "source": [
    "# 1. Write a Python program which accepts the radius of a circle from the user and compute the area\n",
    "\n",
    "import math\n",
    "\n",
    "radius = float(input(\"Enter the radius of your circle: \"))\n",
    "area = math.pi*radius*radius\n",
    "format_area = \"{:.2f}\".format(area)\n",
    "print(format_area)"
   ]
  },
  {
   "cell_type": "code",
   "execution_count": 111,
   "id": "93036392",
   "metadata": {},
   "outputs": [
    {
     "name": "stdout",
     "output_type": "stream",
     "text": [
      "Please enter your first name: cannedbeans\n",
      "Please enter your last name: beans\n",
      "beans cannedbeans\n"
     ]
    }
   ],
   "source": [
    "# 2. Write a Python program which accepts the user's first and last name and print them in reverse order with a space between them.\n",
    "\n",
    "first_name = str(input(\"Please enter your first name: \"))\n",
    "\n",
    "last_name = str(input(\"Please enter your last name: \"))\n",
    "    \n",
    "print(last_name, first_name, sep=\" \")"
   ]
  },
  {
   "cell_type": "code",
   "execution_count": 112,
   "id": "3cca3ec7",
   "metadata": {},
   "outputs": [
    {
     "name": "stdout",
     "output_type": "stream",
     "text": [
      "Red Black\n"
     ]
    }
   ],
   "source": [
    "# 3. Write a Python program to display the first and last colors from the following list. \n",
    "# color_list = [\"Red\",\"Green\",\"White\",\"Black\"]\n",
    "\n",
    "color_list = [\"Red\",\"Green\",\"White\",\"Black\"]\n",
    "print(color_list[+0],color_list[3])"
   ]
  },
  {
   "cell_type": "code",
   "execution_count": 121,
   "id": "a2589a91",
   "metadata": {
    "scrolled": true
   },
   "outputs": [
    {
     "name": "stdout",
     "output_type": "stream",
     "text": [
      "Please enter an integer (Whole number): 10\n",
      "102030\n"
     ]
    }
   ],
   "source": [
    "# 4. Write a Python program that accepts an integer (n) and computes the value of n+nn+nnn.\n",
    "\n",
    "n = str(input(\"Please enter an integer (Whole number): \"))\n",
    "a = n\n",
    "b = n + n\n",
    "c = n + n + n\n",
    "\n",
    "print(int(a)+int(b)+int(c))\n"
   ]
  },
  {
   "cell_type": "code",
   "execution_count": 127,
   "id": "471adbf5",
   "metadata": {},
   "outputs": [
    {
     "name": "stdout",
     "output_type": "stream",
     "text": [
      "904.78 units squared.\n"
     ]
    }
   ],
   "source": [
    "# 5. Write a Python program to get the volume of a sphere with radius 6.\n",
    "# The volume of the sphere is : V = 4/3 × π × r3 = π × d3/6.\n",
    "\n",
    "import math\n",
    "r = 6\n",
    "answer = (4/3)*math.pi*(r*r*r)\n",
    "format_answer = \"{:.2f}\".format(answer)\n",
    "print(format_answer,\"units squared.\")"
   ]
  },
  {
   "cell_type": "code",
   "execution_count": 128,
   "id": "6e4a5dce",
   "metadata": {},
   "outputs": [
    {
     "name": "stdout",
     "output_type": "stream",
     "text": [
      "Enter your number: 4\n",
      "-13.0\n"
     ]
    }
   ],
   "source": [
    "# 6. Write a Python program to get the difference between a given number and 17, if the number is greater than 17 return\n",
    "# double the absolute difference.\n",
    "\n",
    "given_number = float(input(\"Enter your number: \"))\n",
    "\n",
    "if given_number < 17:\n",
    "    print(given_number - 17)\n",
    "\n",
    "else:\n",
    "    print((given_number - 17)*2)\n"
   ]
  },
  {
   "cell_type": "code",
   "execution_count": 129,
   "id": "84124734",
   "metadata": {},
   "outputs": [
    {
     "name": "stdout",
     "output_type": "stream",
     "text": [
      "Give me a number: 4\n",
      "Another: 9\n",
      "One more: 9\n",
      "22.0\n"
     ]
    }
   ],
   "source": [
    "# 7. Write a Python program to calculate the sum of three given numbers, if the values are equal then return thrice of their\n",
    "# sum.\n",
    "\n",
    "x = float(input(\"Give me a number: \"))\n",
    "y = float(input(\"Another: \"))\n",
    "z = float(input(\"One more: \"))\n",
    "\n",
    "if x == y == z:\n",
    "    print(3*(x + y + z))\n",
    "    \n",
    "else:\n",
    "    print(x + y + z)\n",
    "    "
   ]
  },
  {
   "cell_type": "code",
   "execution_count": 130,
   "id": "03abf2c4",
   "metadata": {},
   "outputs": [
    {
     "name": "stdout",
     "output_type": "stream",
     "text": [
      "Give me a number: 9\n",
      "9.0 is odd.\n"
     ]
    }
   ],
   "source": [
    "# 8. Write a Python program to find whether a given number (accept from the user) is even or odd, print out an appropriate\n",
    "# message to the user.\n",
    "\n",
    "user_input = float(input(\"Give me a number: \"))\n",
    "if (user_input % 2) == 0:\n",
    "    print(user_input, \"is even.\")\n",
    "else:\n",
    "    print(user_input, \"is odd.\")\n",
    "    "
   ]
  },
  {
   "cell_type": "code",
   "execution_count": 131,
   "id": "687ab100",
   "metadata": {},
   "outputs": [
    {
     "name": "stdout",
     "output_type": "stream",
     "text": [
      "Give me a letter: u\n",
      "Vowel.\n"
     ]
    }
   ],
   "source": [
    "# 9. Write a Python program to test whether a letter is a vowel or not.\n",
    "\n",
    "letter = str(input(\"Give me a letter: \"))\n",
    "letter = letter.lower()\n",
    "\n",
    "if letter == \"a\":\n",
    "    print(\"Vowel.\")\n",
    "elif letter == \"e\":\n",
    "    print(\"Vowel.\")\n",
    "elif letter == \"i\":\n",
    "    print(\"Vowel.\")\n",
    "elif letter == \"o\":\n",
    "    print(\"Vowel.\")\n",
    "elif letter == \"u\":\n",
    "    print(\"Vowel.\")\n",
    "else:\n",
    "    print(\"Consonant.\")"
   ]
  },
  {
   "cell_type": "code",
   "execution_count": 152,
   "id": "194b3d17",
   "metadata": {
    "scrolled": true
   },
   "outputs": [
    {
     "name": "stdout",
     "output_type": "stream",
     "text": [
      "Enter the value to see if your number is in the group ahahaha: 3\n",
      "No have\n",
      "No have\n",
      "No have\n",
      "No have\n",
      "No have\n"
     ]
    }
   ],
   "source": [
    "# 10. Write a Python program to check whether a specified value is contained in a group of values.\n",
    "\n",
    "# Make an empty list \"x\", pre-emptively get the list length, then fill the list.\n",
    "x = []\n",
    "print(\"Enter 10 numbers: \")\n",
    "\n",
    "for i in range(10):\n",
    "    user_input = int(input())\n",
    "    x.append(user_input)\n",
    "\n",
    "y = int(input(\"Enter the number you want to check: \"))\n",
    "if y in x:\n",
    "    print(\"The number is there.\")\n",
    "    Break;\n",
    "else:\n",
    "    print(\"No.\")\n",
    "        \n",
    "\n"
   ]
  },
  {
   "cell_type": "code",
   "execution_count": 172,
   "id": "52103f16",
   "metadata": {},
   "outputs": [
    {
     "name": "stdout",
     "output_type": "stream",
     "text": [
      "null\n"
     ]
    }
   ],
   "source": [
    "# 11. Write a Python program to create a histogram from a given list of integers.\n",
    "\n",
    "# The histogram function, here, for every \"x\", will print the same number of \"o\".\n",
    "#def histogram(x):\n",
    "    #for i in x:\n",
    "        #print(i * \"o\")\n",
    "\n",
    "# Make an empty list \"x\", pre-emptively get the list length, then fill the list.\n",
    "#x = []\n",
    "#y = int(input(\"Enter the length of your list: \"))\n",
    "#print(\"Enter\",y,\"numbers: \")\n",
    "\n",
    "# Loop the code so that you get \"y\" amount of numbers. This way, there are y numbers. For every number in the list \"x\",\n",
    "# it will temporarily become \"i\", and print an \"i\" number of times of \"o\".\n",
    "# for i in range(y):\n",
    "    #user_input = int(input())\n",
    "    #x.append(user_input)\n",
    "\n",
    "# Print out the histogram.\n",
    "# print(\"------------------------------- Here is your histogram!\")\n",
    "# histogram(x)\n",
    "\n",
    "# The only reason I've spent so long on this code making notes is because\n",
    "# Python Tutor accepts it, but Jupyter says \"y\" isn't callable.\n",
    "# The duality of IDEs.\n",
    "# I messaged Cristoval about it, and he told me to just restart my Pycharm.\n",
    "# Why is such a painful problem solved so easily? Code makes me want to cry.\n",
    "\n",
    "# In the end, I realized this wasn't a histogram, but I keep it here to prove my suffering.\n",
    "print(\"null\")"
   ]
  },
  {
   "cell_type": "code",
   "execution_count": 139,
   "id": "b998ebd3",
   "metadata": {},
   "outputs": [
    {
     "data": {
      "text/plain": [
       "(array([1., 0., 0., 0., 0., 1., 0., 0., 0., 1.]),\n",
       " array([2. , 2.2, 2.4, 2.6, 2.8, 3. , 3.2, 3.4, 3.6, 3.8, 4. ]),\n",
       " <BarContainer object of 10 artists>)"
      ]
     },
     "execution_count": 139,
     "metadata": {},
     "output_type": "execute_result"
    },
    {
     "data": {
      "image/png": "[encoded data removed]",
      "text/plain": [
       "<Figure size 640x480 with 1 Axes>"
      ]
     },
     "metadata": {},
     "output_type": "display_data"
    }
   ],
   "source": [
    "# 11. Write a Python program to create a histogram from a given list of integers.\n",
    "\n",
    "import matplotlib.pyplot as plt\n",
    "int_list = [2,3,4]\n",
    "plt.hist(int_list)"
   ]
  },
  {
   "cell_type": "code",
   "execution_count": 103,
   "id": "ebedc719",
   "metadata": {},
   "outputs": [
    {
     "name": "stdout",
     "output_type": "stream",
     "text": [
      "386 462 418 344 236 566 978 328 162 758 918 412 566 826 248 866 950 626 104 58 512 24 892 894 742 958 "
     ]
    }
   ],
   "source": [
    "# 12. Write a Python program to print all even numbers from a given numbers list in the same order.\n",
    "\n",
    "numbers = [\n",
    " 386, 462, 47, 418, 907, 344, 236, 375, 823, 566, 597, 978, 328, 615, 953, 345,\n",
    " 399, 162, 758, 219, 918, 237, 412, 566, 826, 248, 866, 950, 626, 949, 687, 217,\n",
    " 815, 67, 104, 58, 512, 24, 892, 894, 767, 553, 81, 379, 843, 831, 445, 742, 717,\n",
    " 958,743, 527 ]\n",
    "\n",
    "for x in numbers:\n",
    "    if x % 2 == 0:\n",
    "        print(x, end=\" \")"
   ]
  },
  {
   "cell_type": "code",
   "execution_count": 3,
   "id": "336bf17d",
   "metadata": {
    "scrolled": true
   },
   "outputs": [
    {
     "name": "stdout",
     "output_type": "stream",
     "text": [
      "Triangle Base: 2\n",
      "Triangle Height: 5\n",
      "Your triangle area is 5.0 cm.\n"
     ]
    }
   ],
   "source": [
    "# 13. Write a Python program that will accept the base and height of a triangle and compute the area.\n",
    "\n",
    "input_base = float(input(\"Triangle Base: \"))\n",
    "input_height = float(input(\"Triangle Height: \"))\n",
    "\n",
    "print(\"Your triangle area is\",(1/2)*input_base*input_height,\"cm.\")"
   ]
  },
  {
   "cell_type": "code",
   "execution_count": 105,
   "id": "48c1710e",
   "metadata": {},
   "outputs": [
    {
     "name": "stdout",
     "output_type": "stream",
     "text": [
      "No decimals.\n",
      "Integer One: 3\n",
      "Integer Two: 4\n",
      "12\n"
     ]
    }
   ],
   "source": [
    "# 14. Write a Python program to get the least common multiple (LCM) of two positive integers.\n",
    "\n",
    "import math\n",
    "\n",
    "print(\"No decimals.\")\n",
    "i_one = int(input(\"Integer One: \"))\n",
    "i_two = int(input(\"Integer Two: \"))\n",
    "\n",
    "print(math.lcm(i_one, i_two))\n",
    "\n",
    "\n",
    "    "
   ]
  },
  {
   "cell_type": "code",
   "execution_count": 18,
   "id": "6ba95c26",
   "metadata": {},
   "outputs": [
    {
     "name": "stdout",
     "output_type": "stream",
     "text": [
      "Here's a fun thought, if two values are equal, then I'll make the sum zero. Why? I don't know.\n",
      "Enter an integer: 1\n",
      "Enter another: 23\n",
      "Enter one more: 23\n",
      "Great. Guess what? Surprise surprise, your answer is 0.\n"
     ]
    }
   ],
   "source": [
    "# 15. Write a Python program to sum of three given integers. However, if two values are equal sum will be zero.\n",
    "\n",
    "print(\"Here's a fun thought, if two values are equal, then I'll make the sum zero. Why? I don't know.\")\n",
    "i1 = int(input(\"Enter an integer: \"))\n",
    "i2 = int(input(\"Enter another: \"))\n",
    "i3 = int(input(\"Enter one more: \"))\n",
    "\n",
    "if i1 == i2 or i2 == i3 or i1 == i3:\n",
    "    print(\"Great. Guess what? Surprise surprise, your answer is 0.\")\n",
    "else:\n",
    "    print(\"Your answer will be:\", i1 + i2 + i3)"
   ]
  },
  {
   "cell_type": "code",
   "execution_count": 22,
   "id": "35b554b5",
   "metadata": {},
   "outputs": [
    {
     "name": "stdout",
     "output_type": "stream",
     "text": [
      "Enter a number: 4\n",
      "Enter a second number: 3\n",
      "( 4 + 3 ) ^ 2) = 49\n"
     ]
    }
   ],
   "source": [
    "# 16.Write a Python program to solve (x + y) * (x + y).\n",
    "# Sample Data : x = 4, y = 3\n",
    "# Expected Output : (4 + 3) ^ 2) = 49\n",
    "\n",
    "x = int(input(\"Enter a number: \"))\n",
    "y = int(input(\"Enter a second number: \"))\n",
    "z = (x + y) * (x + y)\n",
    "\n",
    "print(\"(\",x,\"+\",y,\") ^ 2) =\",z)"
   ]
  },
  {
   "cell_type": "code",
   "execution_count": 36,
   "id": "7b77caa3",
   "metadata": {
    "scrolled": true
   },
   "outputs": [
    {
     "name": "stdout",
     "output_type": "stream",
     "text": [
      "Enter your principal amount: 10000\n",
      "Enter the rate of interest [Format: If interest is 3.5%, enter '3.5'.]: 3.5\n",
      "Enter the years you'll be expecting: 7\n",
      "$12722.79\n"
     ]
    }
   ],
   "source": [
    "# 17. Write a Python program to compute the future value of a specified principal amount, rate of interest, and a number of\n",
    "# years.\n",
    "# Sample Data : amt = 10000, int = 3.5, years = 7\n",
    "# Expected Output : 12722.79\n",
    "\n",
    "amt = float(input(\"Enter your principal amount: \"))\n",
    "interest = float(input(\"Enter the rate of interest [Format: If interest is 3.5%, enter '3.5'.]: \"))\n",
    "years = float(input(\"Enter the years you'll be expecting: \"))\n",
    "percentage_int = interest / 100\n",
    "\n",
    "# The example uses compound interest, and so use the formula:\n",
    "# Output = amt (1 + int%)^years\n",
    "\n",
    "pre_output = (1 + percentage_int)**years\n",
    "output = amt * pre_output\n",
    "formatted_output = \"{:.2f}\".format(output)\n",
    "print(\"$\",formatted_output,sep=\"\")\n",
    "\n",
    "# Basic exercise, but I learned how to print two decimal places!"
   ]
  },
  {
   "cell_type": "code",
   "execution_count": 49,
   "id": "07e02f08",
   "metadata": {
    "scrolled": true
   },
   "outputs": [
    {
     "name": "stdout",
     "output_type": "stream",
     "text": [
      "Enter the x point of the first coordinate: 35\n",
      "Enter the y point of the first coordinate: -231\n",
      "Enter the x point of the second coordinate: -24\n",
      "Enter the y point of the second coordinate: 2\n",
      "The distance is 240.35 units.\n"
     ]
    }
   ],
   "source": [
    "# 18. Write a Python program to compute the distance between the points (x1, y1) and (x2, y2).\n",
    "\n",
    "x1 = int(input(\"Enter the x point of the first coordinate: \"))\n",
    "y1 = int(input(\"Enter the y point of the first coordinate: \"))\n",
    "x2 = int(input(\"Enter the x point of the second coordinate: \"))\n",
    "y2 = int(input(\"Enter the y point of the second coordinate: \"))\n",
    "\n",
    "x3 = (x2-x1)**2\n",
    "y3 = (y2-y1)**2\n",
    "\n",
    "z = (x3+y3)**(1/2)\n",
    "formatted_z = \"{:.2f}\".format(z)\n",
    "\n",
    "print(\"The distance is\",formatted_z,\"units.\")"
   ]
  },
  {
   "cell_type": "code",
   "execution_count": 56,
   "id": "42fb81ab",
   "metadata": {},
   "outputs": [
    {
     "name": "stdout",
     "output_type": "stream",
     "text": [
      "Enter the amount of first postive integers you'd like to sum: 13\n",
      "Your result is 91."
     ]
    }
   ],
   "source": [
    "# 19.Write a python program to sum of the first n positive integers.\n",
    "\n",
    "x = int(input(\"Enter the amount of first postive integers you'd like to sum: \"))\n",
    "z = int(x * (x + 1) /2 )\n",
    "\n",
    "print(\"Your result is\",z,end=\".\")"
   ]
  },
  {
   "cell_type": "code",
   "execution_count": 65,
   "id": "fb6330b0",
   "metadata": {},
   "outputs": [
    {
     "name": "stdout",
     "output_type": "stream",
     "text": [
      "If your height is, for example, 4 foot 11, then enter '4' on feet and '11' on inches.\n",
      "Enter the 'foot' part of your height: 4\n",
      "Enter the 'inch' part of your height11\n",
      "Your height in centimetres are 149.86."
     ]
    }
   ],
   "source": [
    "# 20. Write a Python program to convert height (in feet and inches) to centimeters.\n",
    "\n",
    "print(\"If your height is, for example, 4 foot 11, then enter '4' on feet and '11' on inches.\")\n",
    "feet = int(input(\"Enter the 'foot' part of your height: \"))\n",
    "inch = float(input(\"Enter the 'inch' part of your height: \"))\n",
    "feet_in_inch = feet * 12\n",
    "total_inches = feet_in_inch + inch\n",
    "\n",
    "# 1 inch is 2.54cm.\n",
    "           \n",
    "height_cm = total_inches * 2.54\n",
    "print(\"Your height in centimetres are\",height_cm,end=\".\")"
   ]
  },
  {
   "cell_type": "code",
   "execution_count": 71,
   "id": "bd18a88f",
   "metadata": {},
   "outputs": [
    {
     "name": "stdout",
     "output_type": "stream",
     "text": [
      "Enter the length of the first side: 2\n",
      "Enter the length of the second side: 3\n",
      "The hypotenuse is 3.61 units.\n"
     ]
    }
   ],
   "source": [
    "# 21. Write a Python program to calculate the hypotenuse of a right angled triangle.\n",
    "\n",
    "x = float(input(\"Enter the length of the first side: \"))\n",
    "y = float(input(\"Enter the length of the second side: \"))\n",
    "z = ((x**2) + (y**2))**(1/2)\n",
    "format_z = \"{:.2f}\".format(z)\n",
    "print(\"The hypotenuse is\",format_z,\"units.\")"
   ]
  },
  {
   "cell_type": "code",
   "execution_count": 75,
   "id": "469da695",
   "metadata": {},
   "outputs": [
    {
     "name": "stdout",
     "output_type": "stream",
     "text": [
      "Please enter your weight in kilograms: 79\n",
      "Please enter your height in meters: 1.79\n",
      "24.66\n"
     ]
    }
   ],
   "source": [
    "# 22. Write a Python program to calculate body mass index.\n",
    "# BMI is weight/height in m squared\n",
    "w = float(input(\"Please enter your weight in kilograms: \"))\n",
    "m = float(input(\"Please enter your height in meters: \"))\n",
    "bmi = ((w)/(m)**2)\n",
    "format_bmi = \"{:.2f}\".format(bmi)\n",
    "print(format_bmi)\n"
   ]
  },
  {
   "cell_type": "code",
   "execution_count": 88,
   "id": "f9f82363",
   "metadata": {
    "scrolled": true
   },
   "outputs": [
    {
     "name": "stdout",
     "output_type": "stream",
     "text": [
      "Enter the x point of the first coordinate: 8\n",
      "Enter the y point of the first coordinate: 9\n",
      "Enter the x point of the second coordinate: 9\n",
      "Enter the y point of the second coordinate: 7\n",
      "The midpoint of the given coordinates is (8.5,8.0)\n"
     ]
    }
   ],
   "source": [
    "# 23. Write a Python program to calculate midpoints of a line.\n",
    "\n",
    "x1 = int(input(\"Enter the x point of the first coordinate: \"))\n",
    "y1 = int(input(\"Enter the y point of the first coordinate: \"))\n",
    "x2 = int(input(\"Enter the x point of the second coordinate: \"))\n",
    "y2 = int(input(\"Enter the y point of the second coordinate: \"))\n",
    "\n",
    "# (x1+x1)/2 and (y1+y2)/2\n",
    "\n",
    "xf = (x1+x2)/2\n",
    "yf = (y1+y2)/2\n",
    "\n",
    "print(\"The midpoint of the given coordinates is (\",xf,\",\",yf,\")\",sep=\"\")"
   ]
  },
  {
   "cell_type": "code",
   "execution_count": 93,
   "id": "0ef21b6b",
   "metadata": {},
   "outputs": [
    {
     "name": "stdout",
     "output_type": "stream",
     "text": [
      "[2002, 2009, 2016, 2023, 2037, 2044, 2051, 2058, 2072, 2079, 2086, 2093, 2107, 2114, 2121, 2128, 2142, 2149, 2156, 2163, 2177, 2184, 2191, 2198, 2212, 2219, 2226, 2233, 2247, 2254, 2261, 2268, 2282, 2289, 2296, 2303, 2317, 2324, 2331, 2338, 2352, 2359, 2366, 2373, 2387, 2394, 2401, 2408, 2422, 2429, 2436, 2443, 2457, 2464, 2471, 2478, 2492, 2499, 2506, 2513, 2527, 2534, 2541, 2548, 2562, 2569, 2576, 2583, 2597, 2604, 2611, 2618, 2632, 2639, 2646, 2653, 2667, 2674, 2681, 2688, 2702, 2709, 2716, 2723, 2737, 2744, 2751, 2758, 2772, 2779, 2786, 2793, 2807, 2814, 2821, 2828, 2842, 2849, 2856, 2863, 2877, 2884, 2891, 2898, 2912, 2919, 2926, 2933, 2947, 2954, 2961, 2968, 2982, 2989, 2996, 3003, 3017, 3024, 3031, 3038, 3052, 3059, 3066, 3073, 3087, 3094, 3101, 3108, 3122, 3129, 3136, 3143, 3157, 3164, 3171, 3178, 3192, 3199]\n"
     ]
    }
   ],
   "source": [
    "# 24. Write a program which will find all such numbers which are divisible by 7 but are not a multiple of 5, between 2000 and\n",
    "# 3200 (both included). The numbers obtained should be printed in a comma-separated sequence on a single line.\n",
    "\n",
    "x = [i for i in range(1999,3201) if (i % 7 == 0) and (i % 5 != 0)]\n",
    "print(x)"
   ]
  }
 ],
 "metadata": {
  "kernelspec": {
   "display_name": "Python 3 (ipykernel)",
   "language": "python",
   "name": "python3"
  },
  "language_info": {
   "codemirror_mode": {
    "name": "ipython",
    "version": 3
   },
   "file_extension": ".py",
   "mimetype": "text/x-python",
   "name": "python",
   "nbconvert_exporter": "python",
   "pygments_lexer": "ipython3",
   "version": "3.9.13"
  }
 },
 "nbformat": 4,
 "nbformat_minor": 5
}
